{
 "cells": [
  {
   "cell_type": "markdown",
   "id": "0d00460d",
   "metadata": {},
   "source": [
    "# Module 5: Final Project"
   ]
  },
  {
   "cell_type": "markdown",
   "id": "a9a090f0",
   "metadata": {},
   "source": [
    "## 1) Introduction"
   ]
  },
  {
   "cell_type": "markdown",
   "id": "4a31ca86",
   "metadata": {},
   "source": [
    "This final project will focus on doing analysis of agricultural data.  This analysis could be used to build a better predictive model for precision agriculture.  The three broad overall categories of the data are:\n",
    "\n",
    "1. Climate conditions (temperature, humidity, rainfall)\n",
    "2. Soil acidity (pH)\n",
    "3. Fertilizer nutrients (nitrogen, potassium, phosphorous)\n",
    "\n",
    "This unsupervised learning project will use PCA in conjuction with a K-Means model to extract meaningful insight into the data."
   ]
  },
  {
   "cell_type": "markdown",
   "id": "02871d7b",
   "metadata": {},
   "source": [
    "The dataset for the final project can be downloaded from the below link:\n",
    "\n",
    "https://www.kaggle.com/datasets/atharvaingle/crop-recommendation-dataset\n",
    "\n",
    "The link to the GitHub repository is:\n",
    "\n",
    "https://github.com/doctorterry/cu-dtsa5510-Final"
   ]
  },
  {
   "cell_type": "code",
   "execution_count": 1,
   "id": "82ab57f3",
   "metadata": {},
   "outputs": [],
   "source": [
    "import numpy as np\n",
    "import pandas as pd\n",
    "\n",
    "import matplotlib.pyplot as plt\n",
    "import seaborn as sns\n",
    "\n",
    "from matplotlib.pyplot import figure\n",
    "from sklearn.cluster import KMeans\n",
    "from sklearn.decomposition import PCA\n",
    "from sklearn.preprocessing import StandardScaler"
   ]
  },
  {
   "cell_type": "markdown",
   "id": "fd96cdf5",
   "metadata": {},
   "source": [
    "## 2) Data"
   ]
  },
  {
   "cell_type": "markdown",
   "id": "6527a17a",
   "metadata": {},
   "source": [
    "We will begin by loading in the data and briefly looking at the details of the dataframe."
   ]
  },
  {
   "cell_type": "code",
   "execution_count": 2,
   "id": "c1d3f232",
   "metadata": {},
   "outputs": [
    {
     "name": "stdout",
     "output_type": "stream",
     "text": [
      "Shape of the Dataset : (2200, 8)\n"
     ]
    }
   ],
   "source": [
    "# lets read the dataset\n",
    "data = pd.read_csv(\"data.csv\")\n",
    "\n",
    "# lets check teh shape of the dataset\n",
    "print(\"Shape of the Dataset :\", data.shape)"
   ]
  },
  {
   "cell_type": "code",
   "execution_count": 3,
   "id": "48ff1efb",
   "metadata": {},
   "outputs": [
    {
     "data": {
      "text/html": [
       "<div>\n",
       "<style scoped>\n",
       "    .dataframe tbody tr th:only-of-type {\n",
       "        vertical-align: middle;\n",
       "    }\n",
       "\n",
       "    .dataframe tbody tr th {\n",
       "        vertical-align: top;\n",
       "    }\n",
       "\n",
       "    .dataframe thead th {\n",
       "        text-align: right;\n",
       "    }\n",
       "</style>\n",
       "<table border=\"1\" class=\"dataframe\">\n",
       "  <thead>\n",
       "    <tr style=\"text-align: right;\">\n",
       "      <th></th>\n",
       "      <th>N</th>\n",
       "      <th>P</th>\n",
       "      <th>K</th>\n",
       "      <th>temperature</th>\n",
       "      <th>humidity</th>\n",
       "      <th>ph</th>\n",
       "      <th>rainfall</th>\n",
       "      <th>label</th>\n",
       "    </tr>\n",
       "  </thead>\n",
       "  <tbody>\n",
       "    <tr>\n",
       "      <th>0</th>\n",
       "      <td>90</td>\n",
       "      <td>42</td>\n",
       "      <td>43</td>\n",
       "      <td>20.879744</td>\n",
       "      <td>82.002744</td>\n",
       "      <td>6.502985</td>\n",
       "      <td>202.935536</td>\n",
       "      <td>rice</td>\n",
       "    </tr>\n",
       "    <tr>\n",
       "      <th>1</th>\n",
       "      <td>85</td>\n",
       "      <td>58</td>\n",
       "      <td>41</td>\n",
       "      <td>21.770462</td>\n",
       "      <td>80.319644</td>\n",
       "      <td>7.038096</td>\n",
       "      <td>226.655537</td>\n",
       "      <td>rice</td>\n",
       "    </tr>\n",
       "    <tr>\n",
       "      <th>2</th>\n",
       "      <td>60</td>\n",
       "      <td>55</td>\n",
       "      <td>44</td>\n",
       "      <td>23.004459</td>\n",
       "      <td>82.320763</td>\n",
       "      <td>7.840207</td>\n",
       "      <td>263.964248</td>\n",
       "      <td>rice</td>\n",
       "    </tr>\n",
       "    <tr>\n",
       "      <th>3</th>\n",
       "      <td>74</td>\n",
       "      <td>35</td>\n",
       "      <td>40</td>\n",
       "      <td>26.491096</td>\n",
       "      <td>80.158363</td>\n",
       "      <td>6.980401</td>\n",
       "      <td>242.864034</td>\n",
       "      <td>rice</td>\n",
       "    </tr>\n",
       "    <tr>\n",
       "      <th>4</th>\n",
       "      <td>78</td>\n",
       "      <td>42</td>\n",
       "      <td>42</td>\n",
       "      <td>20.130175</td>\n",
       "      <td>81.604873</td>\n",
       "      <td>7.628473</td>\n",
       "      <td>262.717340</td>\n",
       "      <td>rice</td>\n",
       "    </tr>\n",
       "  </tbody>\n",
       "</table>\n",
       "</div>"
      ],
      "text/plain": [
       "    N   P   K  temperature   humidity        ph    rainfall label\n",
       "0  90  42  43    20.879744  82.002744  6.502985  202.935536  rice\n",
       "1  85  58  41    21.770462  80.319644  7.038096  226.655537  rice\n",
       "2  60  55  44    23.004459  82.320763  7.840207  263.964248  rice\n",
       "3  74  35  40    26.491096  80.158363  6.980401  242.864034  rice\n",
       "4  78  42  42    20.130175  81.604873  7.628473  262.717340  rice"
      ]
     },
     "execution_count": 3,
     "metadata": {},
     "output_type": "execute_result"
    }
   ],
   "source": [
    "data.head()"
   ]
  },
  {
   "cell_type": "code",
   "execution_count": 4,
   "id": "1e63eb90",
   "metadata": {},
   "outputs": [
    {
     "name": "stdout",
     "output_type": "stream",
     "text": [
      "<class 'pandas.core.frame.DataFrame'>\n",
      "RangeIndex: 2200 entries, 0 to 2199\n",
      "Data columns (total 8 columns):\n",
      " #   Column       Non-Null Count  Dtype  \n",
      "---  ------       --------------  -----  \n",
      " 0   N            2200 non-null   int64  \n",
      " 1   P            2200 non-null   int64  \n",
      " 2   K            2200 non-null   int64  \n",
      " 3   temperature  2200 non-null   float64\n",
      " 4   humidity     2200 non-null   float64\n",
      " 5   ph           2200 non-null   float64\n",
      " 6   rainfall     2200 non-null   float64\n",
      " 7   label        2200 non-null   object \n",
      "dtypes: float64(4), int64(3), object(1)\n",
      "memory usage: 137.6+ KB\n"
     ]
    }
   ],
   "source": [
    "data.info()"
   ]
  },
  {
   "cell_type": "markdown",
   "id": "15d07dc0",
   "metadata": {},
   "source": [
    "## 3) Exploratory Data Analysis (EDA)"
   ]
  },
  {
   "cell_type": "markdown",
   "id": "5828289b",
   "metadata": {},
   "source": [
    "Listed below are the individual column names for the dataframe.  The description of each of these column headers comes from the creator of the dataset.\n",
    "\n",
    "* N - Ratio of Nitrogen content in the soil\n",
    "* P - Ratio of Phosphorous content in soil\n",
    "* K - Ration of Potassium content in soil\n",
    "* Temperature - Air temperature in degrees Celsius\n",
    "* Humidity - Air relative humidity as a percentage\n",
    "* pH - Acidity/basicity value of the soil in pH\n",
    "* Rainfall - The amount of rainfall for this farm in millimeters (mm)"
   ]
  },
  {
   "cell_type": "code",
   "execution_count": 5,
   "id": "9b5a372a",
   "metadata": {},
   "outputs": [
    {
     "data": {
      "text/plain": [
       "Index(['N', 'P', 'K', 'temperature', 'humidity', 'ph', 'rainfall', 'label'], dtype='object')"
      ]
     },
     "execution_count": 5,
     "metadata": {},
     "output_type": "execute_result"
    }
   ],
   "source": [
    "data.columns"
   ]
  },
  {
   "cell_type": "markdown",
   "id": "f860b8d7",
   "metadata": {},
   "source": [
    " "
   ]
  },
  {
   "cell_type": "markdown",
   "id": "e43c3a5f",
   "metadata": {},
   "source": [
    "Although it appears from the dataframe info that there is no null values, we will confirm this.  Not surpringly, there are no Null or NaN values."
   ]
  },
  {
   "cell_type": "code",
   "execution_count": 6,
   "id": "4f5746e2",
   "metadata": {},
   "outputs": [
    {
     "name": "stdout",
     "output_type": "stream",
     "text": [
      "Count any \"NULL\" values in the dataset\n",
      "N              0\n",
      "P              0\n",
      "K              0\n",
      "temperature    0\n",
      "humidity       0\n",
      "ph             0\n",
      "rainfall       0\n",
      "label          0\n",
      "dtype: int64\n",
      "\n",
      "Count any \"NaN\" values in the dataset\n",
      "N              0\n",
      "P              0\n",
      "K              0\n",
      "temperature    0\n",
      "humidity       0\n",
      "ph             0\n",
      "rainfall       0\n",
      "label          0\n",
      "dtype: int64\n"
     ]
    }
   ],
   "source": [
    "print(\"Count any \\\"NULL\\\" values in the dataset\")\n",
    "print(data.isnull().sum())\n",
    "print(\"\\nCount any \\\"NaN\\\" values in the dataset\")\n",
    "print(data.isna().sum())"
   ]
  },
  {
   "cell_type": "markdown",
   "id": "1c0d743a",
   "metadata": {},
   "source": [
    " "
   ]
  },
  {
   "cell_type": "markdown",
   "id": "101626b3",
   "metadata": {},
   "source": [
    "Now let us check the \"label\" column.  We want to see what are the types of crops that are being considered in this agricultural dataset.  Note that there is an equal number of each crop in the dataset."
   ]
  },
  {
   "cell_type": "code",
   "execution_count": 7,
   "id": "8e72b823",
   "metadata": {},
   "outputs": [
    {
     "data": {
      "text/plain": [
       "rice           100\n",
       "maize          100\n",
       "jute           100\n",
       "cotton         100\n",
       "coconut        100\n",
       "papaya         100\n",
       "orange         100\n",
       "apple          100\n",
       "muskmelon      100\n",
       "watermelon     100\n",
       "grapes         100\n",
       "mango          100\n",
       "banana         100\n",
       "pomegranate    100\n",
       "lentil         100\n",
       "blackgram      100\n",
       "mungbean       100\n",
       "mothbeans      100\n",
       "pigeonpeas     100\n",
       "kidneybeans    100\n",
       "chickpea       100\n",
       "coffee         100\n",
       "Name: label, dtype: int64"
      ]
     },
     "execution_count": 7,
     "metadata": {},
     "output_type": "execute_result"
    }
   ],
   "source": [
    "data[\"label\"].value_counts()"
   ]
  },
  {
   "cell_type": "markdown",
   "id": "43e3914d",
   "metadata": {},
   "source": [
    " "
   ]
  },
  {
   "cell_type": "markdown",
   "id": "59ac392d",
   "metadata": {},
   "source": [
    "Let us quickly examine the data.  We will first look at the overall results for the dataframe.  Secondly, let us look at the minimum, average, and maximum values for each column."
   ]
  },
  {
   "cell_type": "code",
   "execution_count": 8,
   "id": "34ae5bb6",
   "metadata": {},
   "outputs": [
    {
     "data": {
      "text/html": [
       "<div>\n",
       "<style scoped>\n",
       "    .dataframe tbody tr th:only-of-type {\n",
       "        vertical-align: middle;\n",
       "    }\n",
       "\n",
       "    .dataframe tbody tr th {\n",
       "        vertical-align: top;\n",
       "    }\n",
       "\n",
       "    .dataframe thead th {\n",
       "        text-align: right;\n",
       "    }\n",
       "</style>\n",
       "<table border=\"1\" class=\"dataframe\">\n",
       "  <thead>\n",
       "    <tr style=\"text-align: right;\">\n",
       "      <th></th>\n",
       "      <th>N</th>\n",
       "      <th>P</th>\n",
       "      <th>K</th>\n",
       "      <th>temperature</th>\n",
       "      <th>humidity</th>\n",
       "      <th>ph</th>\n",
       "      <th>rainfall</th>\n",
       "    </tr>\n",
       "  </thead>\n",
       "  <tbody>\n",
       "    <tr>\n",
       "      <th>count</th>\n",
       "      <td>2200.000000</td>\n",
       "      <td>2200.000000</td>\n",
       "      <td>2200.000000</td>\n",
       "      <td>2200.000000</td>\n",
       "      <td>2200.000000</td>\n",
       "      <td>2200.000000</td>\n",
       "      <td>2200.000000</td>\n",
       "    </tr>\n",
       "    <tr>\n",
       "      <th>mean</th>\n",
       "      <td>50.551818</td>\n",
       "      <td>53.362727</td>\n",
       "      <td>48.149091</td>\n",
       "      <td>25.616244</td>\n",
       "      <td>71.481779</td>\n",
       "      <td>6.469480</td>\n",
       "      <td>103.463655</td>\n",
       "    </tr>\n",
       "    <tr>\n",
       "      <th>std</th>\n",
       "      <td>36.917334</td>\n",
       "      <td>32.985883</td>\n",
       "      <td>50.647931</td>\n",
       "      <td>5.063749</td>\n",
       "      <td>22.263812</td>\n",
       "      <td>0.773938</td>\n",
       "      <td>54.958389</td>\n",
       "    </tr>\n",
       "    <tr>\n",
       "      <th>min</th>\n",
       "      <td>0.000000</td>\n",
       "      <td>5.000000</td>\n",
       "      <td>5.000000</td>\n",
       "      <td>8.825675</td>\n",
       "      <td>14.258040</td>\n",
       "      <td>3.504752</td>\n",
       "      <td>20.211267</td>\n",
       "    </tr>\n",
       "    <tr>\n",
       "      <th>25%</th>\n",
       "      <td>21.000000</td>\n",
       "      <td>28.000000</td>\n",
       "      <td>20.000000</td>\n",
       "      <td>22.769375</td>\n",
       "      <td>60.261953</td>\n",
       "      <td>5.971693</td>\n",
       "      <td>64.551686</td>\n",
       "    </tr>\n",
       "    <tr>\n",
       "      <th>50%</th>\n",
       "      <td>37.000000</td>\n",
       "      <td>51.000000</td>\n",
       "      <td>32.000000</td>\n",
       "      <td>25.598693</td>\n",
       "      <td>80.473146</td>\n",
       "      <td>6.425045</td>\n",
       "      <td>94.867624</td>\n",
       "    </tr>\n",
       "    <tr>\n",
       "      <th>75%</th>\n",
       "      <td>84.250000</td>\n",
       "      <td>68.000000</td>\n",
       "      <td>49.000000</td>\n",
       "      <td>28.561654</td>\n",
       "      <td>89.948771</td>\n",
       "      <td>6.923643</td>\n",
       "      <td>124.267508</td>\n",
       "    </tr>\n",
       "    <tr>\n",
       "      <th>max</th>\n",
       "      <td>140.000000</td>\n",
       "      <td>145.000000</td>\n",
       "      <td>205.000000</td>\n",
       "      <td>43.675493</td>\n",
       "      <td>99.981876</td>\n",
       "      <td>9.935091</td>\n",
       "      <td>298.560117</td>\n",
       "    </tr>\n",
       "  </tbody>\n",
       "</table>\n",
       "</div>"
      ],
      "text/plain": [
       "                 N            P            K  temperature     humidity  \\\n",
       "count  2200.000000  2200.000000  2200.000000  2200.000000  2200.000000   \n",
       "mean     50.551818    53.362727    48.149091    25.616244    71.481779   \n",
       "std      36.917334    32.985883    50.647931     5.063749    22.263812   \n",
       "min       0.000000     5.000000     5.000000     8.825675    14.258040   \n",
       "25%      21.000000    28.000000    20.000000    22.769375    60.261953   \n",
       "50%      37.000000    51.000000    32.000000    25.598693    80.473146   \n",
       "75%      84.250000    68.000000    49.000000    28.561654    89.948771   \n",
       "max     140.000000   145.000000   205.000000    43.675493    99.981876   \n",
       "\n",
       "                ph     rainfall  \n",
       "count  2200.000000  2200.000000  \n",
       "mean      6.469480   103.463655  \n",
       "std       0.773938    54.958389  \n",
       "min       3.504752    20.211267  \n",
       "25%       5.971693    64.551686  \n",
       "50%       6.425045    94.867624  \n",
       "75%       6.923643   124.267508  \n",
       "max       9.935091   298.560117  "
      ]
     },
     "execution_count": 8,
     "metadata": {},
     "output_type": "execute_result"
    }
   ],
   "source": [
    "data.describe()"
   ]
  },
  {
   "cell_type": "code",
   "execution_count": 9,
   "id": "27e9c6da",
   "metadata": {},
   "outputs": [
    {
     "name": "stdout",
     "output_type": "stream",
     "text": [
      "---------------------------------------------\n",
      "Statistics for N\n",
      "Minimum N required : 0\n",
      "Average N required : 50.55\n",
      "Maximum N required : 140\n",
      "---------------------------------------------\n",
      "Statistics for P\n",
      "Minimum P required : 5\n",
      "Average P required : 53.36\n",
      "Maximum P required : 145\n",
      "---------------------------------------------\n",
      "Statistics for K\n",
      "Minimum K required : 5\n",
      "Average K required : 48.15\n",
      "Maximum K required : 205\n",
      "---------------------------------------------\n",
      "Statistics for temperature\n",
      "Minimum temperature required : 8.83\n",
      "Average temperature required : 25.62\n",
      "Maximum temperature required : 43.68\n",
      "---------------------------------------------\n",
      "Statistics for humidity\n",
      "Minimum humidity required : 14.26\n",
      "Average humidity required : 71.48\n",
      "Maximum humidity required : 99.98\n",
      "---------------------------------------------\n",
      "Statistics for ph\n",
      "Minimum ph required : 3.5\n",
      "Average ph required : 6.47\n",
      "Maximum ph required : 9.94\n",
      "---------------------------------------------\n",
      "Statistics for rainfall\n",
      "Minimum rainfall required : 20.21\n",
      "Average rainfall required : 103.46\n",
      "Maximum rainfall required : 298.56\n"
     ]
    }
   ],
   "source": [
    "for i in range(len(data.columns) - 1):\n",
    "    print(\"---------------------------------------------\")    \n",
    "    print(f\"Statistics for {data.columns[i]}\")\n",
    "    print(f\"Minimum {data.columns[i]} required : {round((data[data.columns[i]].min()), 2)}\")\n",
    "    print(f\"Average {data.columns[i]} required : {round((data[data.columns[i]].mean()), 2)}\")\n",
    "    print(f\"Maximum {data.columns[i]} required : {round((data[data.columns[i]].max()), 2)}\")"
   ]
  },
  {
   "cell_type": "markdown",
   "id": "5f06affa",
   "metadata": {},
   "source": [
    " "
   ]
  },
  {
   "cell_type": "markdown",
   "id": "b90dfb8f",
   "metadata": {},
   "source": [
    "We will now examine the distributions of each of the main topics. Both \"pH\" and \"temperature\" have normal distributions in regards to the counts.  For \"rainfall\", the graph appears to show that it is much more likely to get lower rainfall since the count distribution is greater on the left/lower end of the graph.  Conversely, \"humidity\" is the opposite.  It is much more likely to get higher humidity values (greater number on the right side of the graph).  For the soil nutrients (N, P, K), they all seem to have a slighlty irregular distribution.  The most \"normal\" of the three is K.  However, the counts are still skewed to the left side of the count graph."
   ]
  },
  {
   "cell_type": "code",
   "execution_count": 10,
   "id": "925eda46",
   "metadata": {},
   "outputs": [
    {
     "data": {
      "image/png": "[encoded data removed]",
      "text/plain": [
       "<Figure size 800x800 with 7 Axes>"
      ]
     },
     "metadata": {
      "needs_background": "light"
     },
     "output_type": "display_data"
    }
   ],
   "source": [
    "colors = [\"blue\", \"red\", \"green\", \"purple\", \"blue\", \"red\", \"green\", \"purple\"]\n",
    "\n",
    "figure(figsize=(10, 10), dpi=80)\n",
    "\n",
    "for i in range(len(data.columns) - 1):\n",
    "    plt.subplot(3, 3, (i + 1))\n",
    "    sns.histplot(data[data.columns[i]], color = colors[i], kde = True)\n",
    "    plt.xlabel(f\"{data.columns[i]}\", fontsize = 12)\n",
    "    plt.grid()"
   ]
  },
  {
   "cell_type": "markdown",
   "id": "1b6a208a",
   "metadata": {},
   "source": [
    " "
   ]
  },
  {
   "cell_type": "markdown",
   "id": "5970f71c",
   "metadata": {},
   "source": [
    "Below is the correlation matrix for the data.  Below are some insights:\n",
    "\n",
    "* Only two of the variables (the soil nutrients K and P) are considered highly correlated (positive correlation).\n",
    "* It is somewhat shocking that rainfall and humidity were not more positively correlated.  Although moderately correlated, temperature and humidity are really only slighly correlated in the positive direction.\n",
    "* Other than \"K\" and \"P\", at most the value of the correlation of all the remaining variables is little more than 0.20. "
   ]
  },
  {
   "cell_type": "code",
   "execution_count": 11,
   "id": "7a8e74e8",
   "metadata": {},
   "outputs": [
    {
     "name": "stdout",
     "output_type": "stream",
     "text": [
      "                    N         P         K  temperature  humidity        ph  \\\n",
      "N            1.000000 -0.231460 -0.140512     0.026504  0.190688  0.096683   \n",
      "P           -0.231460  1.000000  0.736232    -0.127541 -0.118734 -0.138019   \n",
      "K           -0.140512  0.736232  1.000000    -0.160387  0.190859 -0.169503   \n",
      "temperature  0.026504 -0.127541 -0.160387     1.000000  0.205320 -0.017795   \n",
      "humidity     0.190688 -0.118734  0.190859     0.205320  1.000000 -0.008483   \n",
      "ph           0.096683 -0.138019 -0.169503    -0.017795 -0.008483  1.000000   \n",
      "rainfall     0.059020 -0.063839 -0.053461    -0.030084  0.094423 -0.109069   \n",
      "\n",
      "             rainfall  \n",
      "N            0.059020  \n",
      "P           -0.063839  \n",
      "K           -0.053461  \n",
      "temperature -0.030084  \n",
      "humidity     0.094423  \n",
      "ph          -0.109069  \n",
      "rainfall     1.000000  \n"
     ]
    },
    {
     "data": {
      "text/plain": [
       "<AxesSubplot:>"
      ]
     },
     "execution_count": 11,
     "metadata": {},
     "output_type": "execute_result"
    },
    {
     "data": {
      "image/png": "[encoded data removed]",
      "text/plain": [
       "<Figure size 720x720 with 2 Axes>"
      ]
     },
     "metadata": {
      "needs_background": "light"
     },
     "output_type": "display_data"
    }
   ],
   "source": [
    "corr = data.corr()\n",
    "\n",
    "print(corr)\n",
    "plt.figure(figsize=(10, 10))\n",
    "sns.heatmap(corr, linewidths=1)"
   ]
  },
  {
   "cell_type": "markdown",
   "id": "95dbd84a",
   "metadata": {},
   "source": [
    " "
   ]
  },
  {
   "cell_type": "markdown",
   "id": "c8a07a6e",
   "metadata": {},
   "source": [
    " "
   ]
  },
  {
   "cell_type": "markdown",
   "id": "8cc56699",
   "metadata": {},
   "source": [
    "Let us examine the mean values for each of the individual crops.  Note that we will re-visit this data later when analyzing the cluster results."
   ]
  },
  {
   "cell_type": "code",
   "execution_count": 12,
   "id": "d652e183",
   "metadata": {
    "scrolled": false
   },
   "outputs": [
    {
     "name": "stdout",
     "output_type": "stream",
     "text": [
      "Mean values for rice\n",
      "N               79.890000\n",
      "P               47.580000\n",
      "K               39.870000\n",
      "temperature     23.689332\n",
      "ph               6.425471\n",
      "humidity        82.272822\n",
      "rainfall       236.181114\n",
      "dtype: float64\n",
      "\n",
      "\n",
      "Mean values for maize\n",
      "N              77.760000\n",
      "P              48.440000\n",
      "K              19.790000\n",
      "temperature    22.389204\n",
      "ph              6.245190\n",
      "humidity       65.092249\n",
      "rainfall       84.766988\n",
      "dtype: float64\n",
      "\n",
      "\n",
      "Mean values for chickpea\n",
      "N              40.090000\n",
      "P              67.790000\n",
      "K              79.920000\n",
      "temperature    18.872847\n",
      "ph              7.336957\n",
      "humidity       16.860439\n",
      "rainfall       80.058977\n",
      "dtype: float64\n",
      "\n",
      "\n",
      "Mean values for kidneybeans\n",
      "N               20.750000\n",
      "P               67.540000\n",
      "K               20.050000\n",
      "temperature     20.115085\n",
      "ph               5.749411\n",
      "humidity        21.605357\n",
      "rainfall       105.919778\n",
      "dtype: float64\n",
      "\n",
      "\n",
      "Mean values for pigeonpeas\n",
      "N               20.730000\n",
      "P               67.730000\n",
      "K               20.290000\n",
      "temperature     27.741762\n",
      "ph               5.794175\n",
      "humidity        48.061633\n",
      "rainfall       149.457564\n",
      "dtype: float64\n",
      "\n",
      "\n",
      "Mean values for mothbeans\n",
      "N              21.440000\n",
      "P              48.010000\n",
      "K              20.230000\n",
      "temperature    28.194920\n",
      "ph              6.831174\n",
      "humidity       53.160418\n",
      "rainfall       51.198487\n",
      "dtype: float64\n",
      "\n",
      "\n",
      "Mean values for mungbean\n",
      "N              20.990000\n",
      "P              47.280000\n",
      "K              19.870000\n",
      "temperature    28.525775\n",
      "ph              6.723957\n",
      "humidity       85.499975\n",
      "rainfall       48.403601\n",
      "dtype: float64\n",
      "\n",
      "\n",
      "Mean values for blackgram\n",
      "N              40.020000\n",
      "P              67.470000\n",
      "K              19.240000\n",
      "temperature    29.973340\n",
      "ph              7.133952\n",
      "humidity       65.118426\n",
      "rainfall       67.884151\n",
      "dtype: float64\n",
      "\n",
      "\n",
      "Mean values for lentil\n",
      "N              18.770000\n",
      "P              68.360000\n",
      "K              19.410000\n",
      "temperature    24.509052\n",
      "ph              6.927932\n",
      "humidity       64.804785\n",
      "rainfall       45.680454\n",
      "dtype: float64\n",
      "\n",
      "\n",
      "Mean values for pomegranate\n",
      "N               18.870000\n",
      "P               18.750000\n",
      "K               40.210000\n",
      "temperature     21.837842\n",
      "ph               6.429172\n",
      "humidity        90.125504\n",
      "rainfall       107.528442\n",
      "dtype: float64\n",
      "\n",
      "\n",
      "Mean values for banana\n",
      "N              100.230000\n",
      "P               82.010000\n",
      "K               50.050000\n",
      "temperature     27.376798\n",
      "ph               5.983893\n",
      "humidity        80.358123\n",
      "rainfall       104.626980\n",
      "dtype: float64\n",
      "\n",
      "\n",
      "Mean values for mango\n",
      "N              20.070000\n",
      "P              27.180000\n",
      "K              29.920000\n",
      "temperature    31.208770\n",
      "ph              5.766373\n",
      "humidity       50.156573\n",
      "rainfall       94.704515\n",
      "dtype: float64\n",
      "\n",
      "\n",
      "Mean values for grapes\n",
      "N               23.180000\n",
      "P              132.530000\n",
      "K              200.110000\n",
      "temperature     23.849575\n",
      "ph               6.025937\n",
      "humidity        81.875228\n",
      "rainfall        69.611829\n",
      "dtype: float64\n",
      "\n",
      "\n",
      "Mean values for watermelon\n",
      "N              99.420000\n",
      "P              17.000000\n",
      "K              50.220000\n",
      "temperature    25.591767\n",
      "ph              6.495778\n",
      "humidity       85.160375\n",
      "rainfall       50.786219\n",
      "dtype: float64\n",
      "\n",
      "\n",
      "Mean values for muskmelon\n",
      "N              100.320000\n",
      "P               17.720000\n",
      "K               50.080000\n",
      "temperature     28.663066\n",
      "ph               6.358805\n",
      "humidity        92.342802\n",
      "rainfall        24.689952\n",
      "dtype: float64\n",
      "\n",
      "\n",
      "Mean values for apple\n",
      "N               20.800000\n",
      "P              134.220000\n",
      "K              199.890000\n",
      "temperature     22.630942\n",
      "ph               5.929663\n",
      "humidity        92.333383\n",
      "rainfall       112.654779\n",
      "dtype: float64\n",
      "\n",
      "\n",
      "Mean values for orange\n",
      "N               19.580000\n",
      "P               16.550000\n",
      "K               10.010000\n",
      "temperature     22.765725\n",
      "ph               7.016957\n",
      "humidity        92.170209\n",
      "rainfall       110.474969\n",
      "dtype: float64\n",
      "\n",
      "\n",
      "Mean values for papaya\n",
      "N               49.880000\n",
      "P               59.050000\n",
      "K               50.040000\n",
      "temperature     33.723859\n",
      "ph               6.741442\n",
      "humidity        92.403388\n",
      "rainfall       142.627839\n",
      "dtype: float64\n",
      "\n",
      "\n",
      "Mean values for coconut\n",
      "N               21.980000\n",
      "P               16.930000\n",
      "K               30.590000\n",
      "temperature     27.409892\n",
      "ph               5.976562\n",
      "humidity        94.844272\n",
      "rainfall       175.686646\n",
      "dtype: float64\n",
      "\n",
      "\n",
      "Mean values for cotton\n",
      "N              117.770000\n",
      "P               46.240000\n",
      "K               19.560000\n",
      "temperature     23.988958\n",
      "ph               6.912675\n",
      "humidity        79.843474\n",
      "rainfall        80.398043\n",
      "dtype: float64\n",
      "\n",
      "\n",
      "Mean values for jute\n",
      "N               78.400000\n",
      "P               46.860000\n",
      "K               39.990000\n",
      "temperature     24.958376\n",
      "ph               6.732778\n",
      "humidity        79.639864\n",
      "rainfall       174.792798\n",
      "dtype: float64\n",
      "\n",
      "\n",
      "Mean values for coffee\n",
      "N              101.200000\n",
      "P               28.740000\n",
      "K               29.940000\n",
      "temperature     25.540477\n",
      "ph               6.790308\n",
      "humidity        58.869846\n",
      "rainfall       158.066295\n",
      "dtype: float64\n",
      "\n",
      "\n"
     ]
    }
   ],
   "source": [
    "conditions = ['N','P','K','temperature','ph','humidity','rainfall']\n",
    "for i in (data[\"label\"].unique()):\n",
    "    print(f\"Mean values for {i}\")\n",
    "    print((data[(data['label'] == i)][conditions].mean()))\n",
    "    print(\"\\n\")"
   ]
  },
  {
   "cell_type": "markdown",
   "id": "1998ebe7",
   "metadata": {},
   "source": [
    "## 4) Build Model"
   ]
  },
  {
   "cell_type": "markdown",
   "id": "14beddc3",
   "metadata": {},
   "source": [
    "We will now begin to build our model.  First we will create our X dataset, removing the labels."
   ]
  },
  {
   "cell_type": "code",
   "execution_count": 13,
   "id": "e78bc9c3",
   "metadata": {},
   "outputs": [
    {
     "data": {
      "text/html": [
       "<div>\n",
       "<style scoped>\n",
       "    .dataframe tbody tr th:only-of-type {\n",
       "        vertical-align: middle;\n",
       "    }\n",
       "\n",
       "    .dataframe tbody tr th {\n",
       "        vertical-align: top;\n",
       "    }\n",
       "\n",
       "    .dataframe thead th {\n",
       "        text-align: right;\n",
       "    }\n",
       "</style>\n",
       "<table border=\"1\" class=\"dataframe\">\n",
       "  <thead>\n",
       "    <tr style=\"text-align: right;\">\n",
       "      <th></th>\n",
       "      <th>N</th>\n",
       "      <th>P</th>\n",
       "      <th>K</th>\n",
       "      <th>temperature</th>\n",
       "      <th>humidity</th>\n",
       "      <th>ph</th>\n",
       "      <th>rainfall</th>\n",
       "    </tr>\n",
       "  </thead>\n",
       "  <tbody>\n",
       "    <tr>\n",
       "      <th>0</th>\n",
       "      <td>90</td>\n",
       "      <td>42</td>\n",
       "      <td>43</td>\n",
       "      <td>20.879744</td>\n",
       "      <td>82.002744</td>\n",
       "      <td>6.502985</td>\n",
       "      <td>202.935536</td>\n",
       "    </tr>\n",
       "    <tr>\n",
       "      <th>1</th>\n",
       "      <td>85</td>\n",
       "      <td>58</td>\n",
       "      <td>41</td>\n",
       "      <td>21.770462</td>\n",
       "      <td>80.319644</td>\n",
       "      <td>7.038096</td>\n",
       "      <td>226.655537</td>\n",
       "    </tr>\n",
       "    <tr>\n",
       "      <th>2</th>\n",
       "      <td>60</td>\n",
       "      <td>55</td>\n",
       "      <td>44</td>\n",
       "      <td>23.004459</td>\n",
       "      <td>82.320763</td>\n",
       "      <td>7.840207</td>\n",
       "      <td>263.964248</td>\n",
       "    </tr>\n",
       "    <tr>\n",
       "      <th>3</th>\n",
       "      <td>74</td>\n",
       "      <td>35</td>\n",
       "      <td>40</td>\n",
       "      <td>26.491096</td>\n",
       "      <td>80.158363</td>\n",
       "      <td>6.980401</td>\n",
       "      <td>242.864034</td>\n",
       "    </tr>\n",
       "    <tr>\n",
       "      <th>4</th>\n",
       "      <td>78</td>\n",
       "      <td>42</td>\n",
       "      <td>42</td>\n",
       "      <td>20.130175</td>\n",
       "      <td>81.604873</td>\n",
       "      <td>7.628473</td>\n",
       "      <td>262.717340</td>\n",
       "    </tr>\n",
       "    <tr>\n",
       "      <th>...</th>\n",
       "      <td>...</td>\n",
       "      <td>...</td>\n",
       "      <td>...</td>\n",
       "      <td>...</td>\n",
       "      <td>...</td>\n",
       "      <td>...</td>\n",
       "      <td>...</td>\n",
       "    </tr>\n",
       "    <tr>\n",
       "      <th>2195</th>\n",
       "      <td>107</td>\n",
       "      <td>34</td>\n",
       "      <td>32</td>\n",
       "      <td>26.774637</td>\n",
       "      <td>66.413269</td>\n",
       "      <td>6.780064</td>\n",
       "      <td>177.774507</td>\n",
       "    </tr>\n",
       "    <tr>\n",
       "      <th>2196</th>\n",
       "      <td>99</td>\n",
       "      <td>15</td>\n",
       "      <td>27</td>\n",
       "      <td>27.417112</td>\n",
       "      <td>56.636362</td>\n",
       "      <td>6.086922</td>\n",
       "      <td>127.924610</td>\n",
       "    </tr>\n",
       "    <tr>\n",
       "      <th>2197</th>\n",
       "      <td>118</td>\n",
       "      <td>33</td>\n",
       "      <td>30</td>\n",
       "      <td>24.131797</td>\n",
       "      <td>67.225123</td>\n",
       "      <td>6.362608</td>\n",
       "      <td>173.322839</td>\n",
       "    </tr>\n",
       "    <tr>\n",
       "      <th>2198</th>\n",
       "      <td>117</td>\n",
       "      <td>32</td>\n",
       "      <td>34</td>\n",
       "      <td>26.272418</td>\n",
       "      <td>52.127394</td>\n",
       "      <td>6.758793</td>\n",
       "      <td>127.175293</td>\n",
       "    </tr>\n",
       "    <tr>\n",
       "      <th>2199</th>\n",
       "      <td>104</td>\n",
       "      <td>18</td>\n",
       "      <td>30</td>\n",
       "      <td>23.603016</td>\n",
       "      <td>60.396475</td>\n",
       "      <td>6.779833</td>\n",
       "      <td>140.937041</td>\n",
       "    </tr>\n",
       "  </tbody>\n",
       "</table>\n",
       "<p>2200 rows × 7 columns</p>\n",
       "</div>"
      ],
      "text/plain": [
       "        N   P   K  temperature   humidity        ph    rainfall\n",
       "0      90  42  43    20.879744  82.002744  6.502985  202.935536\n",
       "1      85  58  41    21.770462  80.319644  7.038096  226.655537\n",
       "2      60  55  44    23.004459  82.320763  7.840207  263.964248\n",
       "3      74  35  40    26.491096  80.158363  6.980401  242.864034\n",
       "4      78  42  42    20.130175  81.604873  7.628473  262.717340\n",
       "...   ...  ..  ..          ...        ...       ...         ...\n",
       "2195  107  34  32    26.774637  66.413269  6.780064  177.774507\n",
       "2196   99  15  27    27.417112  56.636362  6.086922  127.924610\n",
       "2197  118  33  30    24.131797  67.225123  6.362608  173.322839\n",
       "2198  117  32  34    26.272418  52.127394  6.758793  127.175293\n",
       "2199  104  18  30    23.603016  60.396475  6.779833  140.937041\n",
       "\n",
       "[2200 rows x 7 columns]"
      ]
     },
     "execution_count": 13,
     "metadata": {},
     "output_type": "execute_result"
    }
   ],
   "source": [
    "X = data.copy()\n",
    "X.drop([\"label\"], axis = 1, inplace = True)\n",
    "X"
   ]
  },
  {
   "cell_type": "markdown",
   "id": "f801e7c8",
   "metadata": {},
   "source": [
    " "
   ]
  },
  {
   "cell_type": "markdown",
   "id": "14701176",
   "metadata": {},
   "source": [
    "We will now determine the optimum number of clusters for this dataset.  To do this, we will use the \"Elbow Method\".  In this method, we are actually varying the number of clusters (k) from 1 to 11 (for a total of 10). For each value of k, we are calculating WCSS (Within-Cluster Sum of Square).  WCSS is the sum of squared distance between each point and the centroid in a cluster.  "
   ]
  },
  {
   "cell_type": "code",
   "execution_count": 14,
   "id": "f136541a",
   "metadata": {},
   "outputs": [
    {
     "name": "stderr",
     "output_type": "stream",
     "text": [
      "F:\\Dev\\Anaconda3\\lib\\site-packages\\sklearn\\cluster\\_kmeans.py:1036: UserWarning: KMeans is known to have a memory leak on Windows with MKL, when there are less chunks than available threads. You can avoid it by setting the environment variable OMP_NUM_THREADS=9.\n",
      "  warnings.warn(\n"
     ]
    }
   ],
   "source": [
    "wcss = []\n",
    "for i in range(1, 11):\n",
    "    kmeans = KMeans(n_clusters = i, random_state = 42)\n",
    "    kmeans.fit(X)\n",
    "    wcss.append(kmeans.inertia_)"
   ]
  },
  {
   "cell_type": "markdown",
   "id": "c6854299",
   "metadata": {},
   "source": [
    " "
   ]
  },
  {
   "cell_type": "markdown",
   "id": "f47a8b4e",
   "metadata": {},
   "source": [
    "When we plot the WCSS with the K value, the plot looks like an elbow.  As the number of clusters increases, the WCSS value will start to decrease.  WCSS value is largest when k = 1.  When we analyze the graph we can see that the graph will rapidly change at a point and thus creating an elbow shape.  From this point, the graph starts to move almost parallel to the X-axis.  The k value corresponding to this point is the optimal k value or an optimal number of clusters."
   ]
  },
  {
   "cell_type": "markdown",
   "id": "79487440",
   "metadata": {},
   "source": [
    "For this model, the optimum value of k is 4."
   ]
  },
  {
   "cell_type": "code",
   "execution_count": 15,
   "id": "61630b46",
   "metadata": {},
   "outputs": [
    {
     "data": {
      "image/png": "[encoded data removed]",
      "text/plain": [
       "<Figure size 432x288 with 1 Axes>"
      ]
     },
     "metadata": {
      "needs_background": "light"
     },
     "output_type": "display_data"
    }
   ],
   "source": [
    "plt.plot(range(1, 11), wcss)\n",
    "plt.title(\"Elbow Method Graph\", fontsize = 20)\n",
    "plt.xlabel(\"Number of Clusters\")\n",
    "plt.ylabel('WCSS')\n",
    "plt.show()"
   ]
  },
  {
   "cell_type": "markdown",
   "id": "a9ff6e2d",
   "metadata": {},
   "source": [
    " "
   ]
  },
  {
   "cell_type": "markdown",
   "id": "2edc45bb",
   "metadata": {},
   "source": [
    "Now we will lower the dimensionality of the data to 2 dimensions.  This will help later with plotting the results.  Note that I ran this both with and without using the standard scaler.  The results did not vary at all (likely since the ranges of each element are fairly similar)."
   ]
  },
  {
   "cell_type": "code",
   "execution_count": 16,
   "id": "62bc555f",
   "metadata": {},
   "outputs": [],
   "source": [
    "scaler = StandardScaler()\n",
    "standardized_features = scaler.fit_transform(X)\n",
    "\n",
    "#pca = PCA(n_components = 2).fit_transform(X)\n",
    "pca = PCA(n_components = 2, random_state = 42).fit_transform(standardized_features)"
   ]
  },
  {
   "cell_type": "markdown",
   "id": "b0acd6ee",
   "metadata": {},
   "source": [
    " "
   ]
  },
  {
   "cell_type": "markdown",
   "id": "5c00c72c",
   "metadata": {},
   "source": [
    "We will now implement the K-Means algorithm.  Since we determined from the Elbow method that the optimum clusters is 4, this will be used in the implementation of the model."
   ]
  },
  {
   "cell_type": "code",
   "execution_count": 17,
   "id": "decd18fe",
   "metadata": {},
   "outputs": [],
   "source": [
    "n_clusters = 4\n",
    "kmeans = KMeans(n_clusters= n_clusters, random_state = 42)\n",
    "y_hat = kmeans.fit_predict(pca)"
   ]
  },
  {
   "cell_type": "markdown",
   "id": "12b76143",
   "metadata": {},
   "source": [
    " "
   ]
  },
  {
   "cell_type": "markdown",
   "id": "a0b5f541",
   "metadata": {},
   "source": [
    "We will now examine the results of the K-Means clustering.  First, we create a dataframe from the original data that is just the original labels (ie plant names)."
   ]
  },
  {
   "cell_type": "code",
   "execution_count": 18,
   "id": "aa92d472",
   "metadata": {},
   "outputs": [
    {
     "data": {
      "text/plain": [
       "0         rice\n",
       "1         rice\n",
       "2         rice\n",
       "3         rice\n",
       "4         rice\n",
       "         ...  \n",
       "2195    coffee\n",
       "2196    coffee\n",
       "2197    coffee\n",
       "2198    coffee\n",
       "2199    coffee\n",
       "Name: label, Length: 2200, dtype: object"
      ]
     },
     "execution_count": 18,
     "metadata": {},
     "output_type": "execute_result"
    }
   ],
   "source": [
    "y = data['label']\n",
    "y"
   ]
  },
  {
   "cell_type": "markdown",
   "id": "f0a8ad77",
   "metadata": {},
   "source": [
    " "
   ]
  },
  {
   "cell_type": "markdown",
   "id": "e99b5484",
   "metadata": {},
   "source": [
    " Let us convert the results of the K-Means fit and predict function into a Pandas dataframe."
   ]
  },
  {
   "cell_type": "code",
   "execution_count": 19,
   "id": "c1b1c7bc",
   "metadata": {},
   "outputs": [
    {
     "data": {
      "text/html": [
       "<div>\n",
       "<style scoped>\n",
       "    .dataframe tbody tr th:only-of-type {\n",
       "        vertical-align: middle;\n",
       "    }\n",
       "\n",
       "    .dataframe tbody tr th {\n",
       "        vertical-align: top;\n",
       "    }\n",
       "\n",
       "    .dataframe thead th {\n",
       "        text-align: right;\n",
       "    }\n",
       "</style>\n",
       "<table border=\"1\" class=\"dataframe\">\n",
       "  <thead>\n",
       "    <tr style=\"text-align: right;\">\n",
       "      <th></th>\n",
       "      <th>0</th>\n",
       "    </tr>\n",
       "  </thead>\n",
       "  <tbody>\n",
       "    <tr>\n",
       "      <th>0</th>\n",
       "      <td>2</td>\n",
       "    </tr>\n",
       "    <tr>\n",
       "      <th>1</th>\n",
       "      <td>2</td>\n",
       "    </tr>\n",
       "    <tr>\n",
       "      <th>2</th>\n",
       "      <td>2</td>\n",
       "    </tr>\n",
       "    <tr>\n",
       "      <th>3</th>\n",
       "      <td>2</td>\n",
       "    </tr>\n",
       "    <tr>\n",
       "      <th>4</th>\n",
       "      <td>2</td>\n",
       "    </tr>\n",
       "    <tr>\n",
       "      <th>...</th>\n",
       "      <td>...</td>\n",
       "    </tr>\n",
       "    <tr>\n",
       "      <th>2195</th>\n",
       "      <td>2</td>\n",
       "    </tr>\n",
       "    <tr>\n",
       "      <th>2196</th>\n",
       "      <td>2</td>\n",
       "    </tr>\n",
       "    <tr>\n",
       "      <th>2197</th>\n",
       "      <td>2</td>\n",
       "    </tr>\n",
       "    <tr>\n",
       "      <th>2198</th>\n",
       "      <td>2</td>\n",
       "    </tr>\n",
       "    <tr>\n",
       "      <th>2199</th>\n",
       "      <td>2</td>\n",
       "    </tr>\n",
       "  </tbody>\n",
       "</table>\n",
       "<p>2200 rows × 1 columns</p>\n",
       "</div>"
      ],
      "text/plain": [
       "      0\n",
       "0     2\n",
       "1     2\n",
       "2     2\n",
       "3     2\n",
       "4     2\n",
       "...  ..\n",
       "2195  2\n",
       "2196  2\n",
       "2197  2\n",
       "2198  2\n",
       "2199  2\n",
       "\n",
       "[2200 rows x 1 columns]"
      ]
     },
     "execution_count": 19,
     "metadata": {},
     "output_type": "execute_result"
    }
   ],
   "source": [
    "y_means = pd.DataFrame(y_hat)\n",
    "y_means"
   ]
  },
  {
   "cell_type": "markdown",
   "id": "5624899a",
   "metadata": {},
   "source": [
    " "
   ]
  },
  {
   "cell_type": "markdown",
   "id": "715d52be",
   "metadata": {},
   "source": [
    "We will now concatenate the two dataframes so that we can associate the labels to the datapoints in the actual clusters.  This will enable us to see the results of the K-Means clustering."
   ]
  },
  {
   "cell_type": "code",
   "execution_count": 20,
   "id": "b0793d98",
   "metadata": {},
   "outputs": [
    {
     "data": {
      "text/html": [
       "<div>\n",
       "<style scoped>\n",
       "    .dataframe tbody tr th:only-of-type {\n",
       "        vertical-align: middle;\n",
       "    }\n",
       "\n",
       "    .dataframe tbody tr th {\n",
       "        vertical-align: top;\n",
       "    }\n",
       "\n",
       "    .dataframe thead th {\n",
       "        text-align: right;\n",
       "    }\n",
       "</style>\n",
       "<table border=\"1\" class=\"dataframe\">\n",
       "  <thead>\n",
       "    <tr style=\"text-align: right;\">\n",
       "      <th></th>\n",
       "      <th>cluster</th>\n",
       "      <th>label</th>\n",
       "    </tr>\n",
       "  </thead>\n",
       "  <tbody>\n",
       "    <tr>\n",
       "      <th>0</th>\n",
       "      <td>2</td>\n",
       "      <td>rice</td>\n",
       "    </tr>\n",
       "    <tr>\n",
       "      <th>1</th>\n",
       "      <td>2</td>\n",
       "      <td>rice</td>\n",
       "    </tr>\n",
       "    <tr>\n",
       "      <th>2</th>\n",
       "      <td>2</td>\n",
       "      <td>rice</td>\n",
       "    </tr>\n",
       "    <tr>\n",
       "      <th>3</th>\n",
       "      <td>2</td>\n",
       "      <td>rice</td>\n",
       "    </tr>\n",
       "    <tr>\n",
       "      <th>4</th>\n",
       "      <td>2</td>\n",
       "      <td>rice</td>\n",
       "    </tr>\n",
       "    <tr>\n",
       "      <th>...</th>\n",
       "      <td>...</td>\n",
       "      <td>...</td>\n",
       "    </tr>\n",
       "    <tr>\n",
       "      <th>2195</th>\n",
       "      <td>2</td>\n",
       "      <td>coffee</td>\n",
       "    </tr>\n",
       "    <tr>\n",
       "      <th>2196</th>\n",
       "      <td>2</td>\n",
       "      <td>coffee</td>\n",
       "    </tr>\n",
       "    <tr>\n",
       "      <th>2197</th>\n",
       "      <td>2</td>\n",
       "      <td>coffee</td>\n",
       "    </tr>\n",
       "    <tr>\n",
       "      <th>2198</th>\n",
       "      <td>2</td>\n",
       "      <td>coffee</td>\n",
       "    </tr>\n",
       "    <tr>\n",
       "      <th>2199</th>\n",
       "      <td>2</td>\n",
       "      <td>coffee</td>\n",
       "    </tr>\n",
       "  </tbody>\n",
       "</table>\n",
       "<p>2200 rows × 2 columns</p>\n",
       "</div>"
      ],
      "text/plain": [
       "      cluster   label\n",
       "0           2    rice\n",
       "1           2    rice\n",
       "2           2    rice\n",
       "3           2    rice\n",
       "4           2    rice\n",
       "...       ...     ...\n",
       "2195        2  coffee\n",
       "2196        2  coffee\n",
       "2197        2  coffee\n",
       "2198        2  coffee\n",
       "2199        2  coffee\n",
       "\n",
       "[2200 rows x 2 columns]"
      ]
     },
     "execution_count": 20,
     "metadata": {},
     "output_type": "execute_result"
    }
   ],
   "source": [
    "z = pd.concat([y_means, y], axis = 1)\n",
    "z = z.rename(columns = {0: 'cluster'})\n",
    "z"
   ]
  },
  {
   "cell_type": "markdown",
   "id": "b01e3a85",
   "metadata": {},
   "source": [
    "## 5) Results"
   ]
  },
  {
   "cell_type": "markdown",
   "id": "268426ba",
   "metadata": {},
   "source": [
    "Listed below are the plants associated with each individual cluster.  Note the below observations:\n",
    "\n",
    "* There is some overlap between clusters 0, 2 and 3.  \"Maize\", \"pigeonpeas\", \"mungbean\", \"blackgram\", \"pomegranate\", \"mango\", \"organge\", \"papaya\", \"jute\" and \"coffee\" appear in clusters 0 and 2.  \"Pigeonpeas\", \"mothbeans\" and \"lentil\" appear in clusters 0 and 3.  Only \"pigeonpeas\" overlaps with clusters 2 and 3. \n",
    "* The plants in cluster 1 (\"grapes\", \"apple\") do not have any overlap."
   ]
  },
  {
   "cell_type": "code",
   "execution_count": 21,
   "id": "4a8fcfb0",
   "metadata": {},
   "outputs": [
    {
     "name": "stdout",
     "output_type": "stream",
     "text": [
      "Crops in Cluster 0:\n",
      "['maize' 'pigeonpeas' 'mothbeans' 'mungbean' 'blackgram' 'lentil'\n",
      " 'pomegranate' 'mango' 'orange' 'papaya' 'cotton' 'jute' 'coffee']\n",
      "\n",
      "\n",
      "Crops in Cluster 1:\n",
      "['grapes' 'apple']\n",
      "\n",
      "\n",
      "Crops in Cluster 2:\n",
      "['rice' 'maize' 'pigeonpeas' 'mungbean' 'blackgram' 'pomegranate' 'banana'\n",
      " 'mango' 'watermelon' 'muskmelon' 'orange' 'papaya' 'coconut' 'cotton'\n",
      " 'jute' 'coffee']\n",
      "\n",
      "\n",
      "Crops in Cluster 3:\n",
      "['chickpea' 'kidneybeans' 'pigeonpeas' 'mothbeans' 'lentil']\n",
      "\n",
      "\n"
     ]
    }
   ],
   "source": [
    "for i in range(n_clusters):\n",
    "    print(f\"Crops in Cluster {i}:\") \n",
    "    print(f\"{z[z['cluster'] == i]['label'].unique()}\")\n",
    "    print(\"\\n\")"
   ]
  },
  {
   "cell_type": "markdown",
   "id": "5769f3d4",
   "metadata": {},
   "source": [
    " "
   ]
  },
  {
   "cell_type": "markdown",
   "id": "57c4edfe",
   "metadata": {},
   "source": [
    "Plotting the clusters gives us further insight into the previous observations.  We can clearly see that clusters 0, 2 and 3 are quite close together.  Cluster 1 is a significant outlier to the rest of the data."
   ]
  },
  {
   "cell_type": "code",
   "execution_count": 22,
   "id": "5550a1c8",
   "metadata": {},
   "outputs": [
    {
     "data": {
      "image/png": "[encoded data removed]",
      "text/plain": [
       "<Figure size 432x288 with 1 Axes>"
      ]
     },
     "metadata": {
      "needs_background": "light"
     },
     "output_type": "display_data"
    }
   ],
   "source": [
    "# Getting unique labels\n",
    "u_labels = np.unique(y_hat)\n",
    "centroids = kmeans.cluster_centers_\n",
    "\n",
    "# Plot the results\n",
    "for i in u_labels:\n",
    "    plt.scatter(x = pca[y_hat == i , 0] , y = pca[y_hat == i , 1] , label = i)\n",
    "for j in range(len(centroids)):\n",
    "    plt.scatter(x = centroids[j, 0], y = centroids[j, 1], c = \"black\")\n",
    "plt.legend()\n",
    "plt.show()"
   ]
  },
  {
   "cell_type": "markdown",
   "id": "9341d1f8",
   "metadata": {},
   "source": [
    " "
   ]
  },
  {
   "cell_type": "markdown",
   "id": "290d2d81",
   "metadata": {},
   "source": [
    " "
   ]
  },
  {
   "cell_type": "markdown",
   "id": "936a7157",
   "metadata": {},
   "source": [
    "Before we attempt to determine why cluster 1 is significantly different, let us clean up the clusters so that there are no overlaps.  To do this, we will only consider a plant a member of a cluster if there are 50 or more instances.  Notice now that cluster 3 only has two crops."
   ]
  },
  {
   "cell_type": "code",
   "execution_count": 23,
   "id": "f706cc4e",
   "metadata": {},
   "outputs": [
    {
     "name": "stdout",
     "output_type": "stream",
     "text": [
      "Crops in Cluster 0:\n",
      "['maize', 'pigeonpeas', 'mothbeans', 'mungbean', 'blackgram', 'lentil', 'pomegranate', 'mango', 'orange']\n",
      "\n",
      "\n",
      "Crops in Cluster 1:\n",
      "['grapes', 'apple']\n",
      "\n",
      "\n",
      "Crops in Cluster 2:\n",
      "['rice', 'banana', 'watermelon', 'muskmelon', 'papaya', 'coconut', 'cotton', 'jute', 'coffee']\n",
      "\n",
      "\n",
      "Crops in Cluster 3:\n",
      "['chickpea', 'kidneybeans']\n",
      "\n",
      "\n"
     ]
    }
   ],
   "source": [
    "for i in range(n_clusters):\n",
    "    counts = z[z['cluster'] == i]['label'].value_counts()    \n",
    "    d = z.loc[z['label'].isin(counts.index[counts >= 50])]\n",
    "    d = d['label'].value_counts()\n",
    "    print(f\"Crops in Cluster {i}:\") \n",
    "    print(f\"{list(d.index)}\")\n",
    "    print(\"\\n\")"
   ]
  },
  {
   "cell_type": "markdown",
   "id": "3830dcae",
   "metadata": {},
   "source": [
    " "
   ]
  },
  {
   "cell_type": "markdown",
   "id": "68296298",
   "metadata": {},
   "source": [
    "Let us quickly visualize the impact of different conditions on each individual crop.  It is the same info that we looked at in detail during the exploratory data analysis.  This is simply a quick visual to help in the next few steps.  "
   ]
  },
  {
   "cell_type": "code",
   "execution_count": 24,
   "id": "90e15872",
   "metadata": {
    "scrolled": false
   },
   "outputs": [
    {
     "data": {
      "image/png": "[encoded data removed]",
      "text/plain": [
       "<Figure size 1080x2160 with 7 Axes>"
      ]
     },
     "metadata": {
      "needs_background": "light"
     },
     "output_type": "display_data"
    }
   ],
   "source": [
    "plt.rcParams['figure.figsize'] = (15, 30)\n",
    "\n",
    "for i in range(len(data.columns) - 1):\n",
    "    plt.subplot(7, 1, (i + 1))\n",
    "    sns.barplot(y = data[data.columns[i]], x = data['label'])\n",
    "    plt.xlabel(\" \")\n",
    "    plt.ylabel(\" \")\n",
    "    plt.title(data.columns[i], fontsize = 20)\n",
    "    plt.xticks(fontsize = 10, rotation=90)\n",
    "    plt.tight_layout(pad= 3)\n",
    "plt.show()"
   ]
  },
  {
   "cell_type": "markdown",
   "id": "bf159cea",
   "metadata": {},
   "source": [
    " "
   ]
  },
  {
   "cell_type": "markdown",
   "id": "6421aff2",
   "metadata": {},
   "source": [
    "We will now look at the agricultural factors in a little more detail.  We will begin by analyzing the fertilizer nutrients (nitrogen, potassium, phosphorous) in the soil.  The first observation, important to our cluster analysis, jumps out:\n",
    "\n",
    "* Apples and grapes are the only two crops that need high concentrations of phosphorous (P) and potassium (K).  This is a drastic difference in relation to all other crops in this dataset.\n",
    "* Most if not all the other crops show varying levels of the three elements to grow properly."
   ]
  },
  {
   "cell_type": "code",
   "execution_count": 25,
   "id": "ed514c5e",
   "metadata": {},
   "outputs": [
    {
     "name": "stdout",
     "output_type": "stream",
     "text": [
      "** NITROGEN (N) **\n",
      "\n",
      "Crops which will grow with a high ratio of Nitrogen (N) in the soil (greater or equal to 120):\n",
      "['banana' 'watermelon' 'muskmelon' 'cotton' 'coffee']\n",
      "\n",
      "\n",
      "Crops which will grow with a moderate ratio of Nitrogen (N) in the soil (between 120 and 20):\n",
      "['rice' 'maize' 'chickpea' 'kidneybeans' 'pigeonpeas' 'mothbeans'\n",
      " 'mungbean' 'blackgram' 'lentil' 'pomegranate' 'banana' 'mango' 'grapes'\n",
      " 'watermelon' 'muskmelon' 'apple' 'orange' 'papaya' 'coconut' 'cotton'\n",
      " 'jute' 'coffee']\n",
      "\n",
      "\n",
      "Crops which will grow with a low ratio of Nitrogen (N) in the soil (less or equal to 20):\n",
      "['chickpea' 'kidneybeans' 'pigeonpeas' 'mothbeans' 'mungbean' 'blackgram'\n",
      " 'lentil' 'pomegranate' 'mango' 'grapes' 'apple' 'orange' 'coconut']\n",
      "\n",
      "----------------------------------------------------------------------\n",
      "\n",
      "** PHOSPHOROUS (P) **\n",
      "\n",
      "Crops which will grow with a high ratio of Phosphorous (P) in the soil (greater or equal to 100):\n",
      "['grapes' 'apple']\n",
      "\n",
      "\n",
      "Crops which will grow with a moderate ratio of Phosphorous (P) in the soil (between 100 and 20):\n",
      "['rice' 'maize' 'chickpea' 'kidneybeans' 'pigeonpeas' 'mothbeans'\n",
      " 'mungbean' 'blackgram' 'lentil' 'pomegranate' 'banana' 'mango'\n",
      " 'watermelon' 'muskmelon' 'orange' 'papaya' 'coconut' 'cotton' 'jute'\n",
      " 'coffee']\n",
      "\n",
      "\n",
      "Crops which will grow with a low ratio of Phosphorous (P) in the soil (less or equal to 20):\n",
      "['pomegranate' 'mango' 'watermelon' 'muskmelon' 'orange' 'coconut'\n",
      " 'coffee']\n",
      "\n",
      "----------------------------------------------------------------------\n",
      "\n",
      "** POTASSIUM (K) **\n",
      "\n",
      "Crops which will grow with a very high ratio of Potassium (K) in the soil (greater or equal to 200):\n",
      "['grapes' 'apple']\n",
      "\n",
      "\n",
      "Crops which will grow with a moderate ratio of Potassium (K) in the soil (between 200 and 20):\n",
      "['rice' 'maize' 'chickpea' 'kidneybeans' 'pigeonpeas' 'mothbeans'\n",
      " 'mungbean' 'blackgram' 'lentil' 'pomegranate' 'banana' 'mango' 'grapes'\n",
      " 'watermelon' 'muskmelon' 'apple' 'papaya' 'coconut' 'cotton' 'jute'\n",
      " 'coffee']\n",
      "\n",
      "\n",
      "Crops which will grow with a low ratio of Potassium (K) in the soil (less or equal to 20):\n",
      "['maize' 'kidneybeans' 'pigeonpeas' 'mothbeans' 'mungbean' 'blackgram'\n",
      " 'lentil' 'orange' 'cotton']\n"
     ]
    }
   ],
   "source": [
    "print(\"** NITROGEN (N) **\\n\")\n",
    "print(\"Crops which will grow with a high ratio of Nitrogen (N) in the soil (greater or equal to 120):\")\n",
    "print(f\"{data[data['N'] >= 120]['label'].unique()}\")\n",
    "print(\"\\n\")\n",
    "print(\"Crops which will grow with a moderate ratio of Nitrogen (N) in the soil (between 120 and 20):\")\n",
    "print(f\"{data[(data['N'] > 20) & (data['N'] < 120)]['label'].unique()}\")\n",
    "print(\"\\n\")\n",
    "print(\"Crops which will grow with a low ratio of Nitrogen (N) in the soil (less or equal to 20):\")\n",
    "print(f\"{data[data['N'] <= 20]['label'].unique()}\")\n",
    "print(\"\\n----------------------------------------------------------------------\\n\")\n",
    "print(\"** PHOSPHOROUS (P) **\\n\")\n",
    "print(\"Crops which will grow with a high ratio of Phosphorous (P) in the soil (greater or equal to 100):\")\n",
    "print(f\"{data[data['P'] >= 100]['label'].unique()}\")\n",
    "print(\"\\n\")\n",
    "print(\"Crops which will grow with a moderate ratio of Phosphorous (P) in the soil (between 100 and 20):\")\n",
    "print(f\"{data[(data['P'] > 20) & (data['P'] < 100)]['label'].unique()}\")\n",
    "print(\"\\n\")\n",
    "print(\"Crops which will grow with a low ratio of Phosphorous (P) in the soil (less or equal to 20):\")\n",
    "print(f\"{data[data['P'] <= 20]['label'].unique()}\")\n",
    "print(\"\\n----------------------------------------------------------------------\\n\")\n",
    "print(\"** POTASSIUM (K) **\\n\")\n",
    "print(\"Crops which will grow with a very high ratio of Potassium (K) in the soil (greater or equal to 200):\")\n",
    "print(f\"{data[data['K'] >= 200]['label'].unique()}\")\n",
    "print(\"\\n\")\n",
    "print(\"Crops which will grow with a moderate ratio of Potassium (K) in the soil (between 200 and 20):\")\n",
    "print(f\"{data[(data['K'] > 20) & (data['K'] < 200)]['label'].unique()}\")\n",
    "print(\"\\n\")\n",
    "print(\"Crops which will grow with a low ratio of Potassium (K) in the soil (less or equal to 20):\")\n",
    "print(f\"{data[data['K'] <= 20]['label'].unique()}\")"
   ]
  },
  {
   "cell_type": "markdown",
   "id": "c2b11538",
   "metadata": {},
   "source": [
    " "
   ]
  },
  {
   "cell_type": "markdown",
   "id": "a1e2ebc4",
   "metadata": {},
   "source": [
    "We will now examine the climate conditions (rainfall, temperature, humidity):\n",
    "\n",
    "* As observed in the bar plot, rice can grow in a climate with by far the most rainfall.  This is definitely not surprising since rice grows in shallow water (ie freshwater marshes).\n",
    "* Grapes can grow in the greatest temperature range (from below 10C to above 40C).\n",
    "* Many crops can grow in a high humidity environment.  However, it is preferable to grow chickpeas in a low humidity environment only."
   ]
  },
  {
   "cell_type": "code",
   "execution_count": 26,
   "id": "88b3f5df",
   "metadata": {},
   "outputs": [
    {
     "name": "stdout",
     "output_type": "stream",
     "text": [
      "** RAINFALL **\n",
      "\n",
      "Crops which need high rainfall (greater or equal to 200mm):\n",
      "['rice' 'papaya' 'coconut']\n",
      "\n",
      "\n",
      "Crops which will grow with a moderate rainfall (between 200 and 40mm):\n",
      "['rice' 'maize' 'chickpea' 'kidneybeans' 'pigeonpeas' 'mothbeans'\n",
      " 'mungbean' 'blackgram' 'lentil' 'pomegranate' 'banana' 'mango' 'grapes'\n",
      " 'watermelon' 'apple' 'orange' 'papaya' 'coconut' 'cotton' 'jute' 'coffee']\n",
      "\n",
      "\n",
      "Crops which will grow with low rainfall (less or equal to 40mm):\n",
      "['mothbeans' 'mungbean' 'lentil' 'muskmelon']\n",
      "\n",
      "----------------------------------------------------------------------\n",
      "\n",
      "** TEMPERATURE **\n",
      "\n",
      "Crops which grow at high outdoor temperature (greater or equal to 40C):\n",
      "['grapes' 'papaya']\n",
      "\n",
      "\n",
      "Crops which will grow with at a moderate outdoor temperature (between 40 and 20C):\n",
      "['rice' 'maize' 'chickpea' 'kidneybeans' 'pigeonpeas' 'mothbeans'\n",
      " 'mungbean' 'blackgram' 'lentil' 'pomegranate' 'banana' 'mango' 'grapes'\n",
      " 'watermelon' 'muskmelon' 'apple' 'orange' 'papaya' 'coconut' 'cotton'\n",
      " 'jute' 'coffee']\n",
      "\n",
      "\n",
      "Crops which grow at low outdoor temperature (less or equal to 10C):\n",
      "['grapes']\n",
      "\n",
      "----------------------------------------------------------------------\n",
      "\n",
      "** HUMIDITY **\n",
      "\n",
      "Crops which grow in high humidity (greater or equal to 80%):\n",
      "['rice' 'mungbean' 'pomegranate' 'banana' 'grapes' 'watermelon'\n",
      " 'muskmelon' 'apple' 'orange' 'papaya' 'coconut' 'cotton' 'jute']\n",
      "\n",
      "\n",
      "Crops which will grow in moderate humidity (between 80 and 20%):\n",
      "['maize' 'kidneybeans' 'pigeonpeas' 'mothbeans' 'blackgram' 'lentil'\n",
      " 'banana' 'mango' 'cotton' 'jute' 'coffee']\n",
      "\n",
      "\n",
      "Crops which grow in low humidity (less or equal to 20%):\n",
      "['chickpea' 'kidneybeans']\n"
     ]
    }
   ],
   "source": [
    "print(\"** RAINFALL **\\n\")\n",
    "print(\"Crops which need high rainfall (greater or equal to 200mm):\")\n",
    "print(f\"{data[data['rainfall'] >= 200]['label'].unique()}\")\n",
    "print(\"\\n\")\n",
    "print(\"Crops which will grow with a moderate rainfall (between 200 and 40mm):\")\n",
    "print(f\"{data[(data['rainfall'] > 40) & (data['rainfall'] < 200)]['label'].unique()}\")\n",
    "print(\"\\n\")\n",
    "print(\"Crops which will grow with low rainfall (less or equal to 40mm):\")\n",
    "print(f\"{data[data['rainfall'] <= 40]['label'].unique()}\")\n",
    "print(\"\\n----------------------------------------------------------------------\\n\")\n",
    "print(\"** TEMPERATURE **\\n\")\n",
    "print(\"Crops which grow at high outdoor temperature (greater or equal to 40C):\")\n",
    "print(f\"{data[data['temperature'] >= 40]['label'].unique()}\")\n",
    "print(\"\\n\")\n",
    "print(\"Crops which will grow with at a moderate outdoor temperature (between 40 and 20C):\")\n",
    "print(f\"{data[(data['temperature'] > 10) & (data['temperature'] < 40)]['label'].unique()}\")\n",
    "print(\"\\n\")\n",
    "print(\"Crops which grow at low outdoor temperature (less or equal to 10C):\")\n",
    "print(f\"{data[data['temperature'] <= 10]['label'].unique()}\")\n",
    "print(\"\\n----------------------------------------------------------------------\\n\")\n",
    "print(\"** HUMIDITY **\\n\")\n",
    "print(\"Crops which grow in high humidity (greater or equal to 80%):\")\n",
    "print(f\"{data[data['humidity'] >= 80]['label'].unique()}\")\n",
    "print(\"\\n\")\n",
    "print(\"Crops which will grow in moderate humidity (between 80 and 20%):\")\n",
    "print(f\"{data[(data['humidity'] > 20) & (data['humidity'] < 80)]['label'].unique()}\")\n",
    "print(\"\\n\")\n",
    "print(\"Crops which grow in low humidity (less or equal to 20%):\")\n",
    "print(f\"{data[data['humidity'] <= 20]['label'].unique()}\")"
   ]
  },
  {
   "cell_type": "markdown",
   "id": "8bcb05e5",
   "metadata": {},
   "source": [
    " "
   ]
  },
  {
   "cell_type": "markdown",
   "id": "25e85c15",
   "metadata": {},
   "source": [
    "Finally, we will examine the results of soil acidity (pH):\n",
    "\n",
    "* Mothbeans appear to be able to grow with any level of soil pH.\n",
    "* The remaining crops should be grown in soil with a pH between 4 and 9 for the best results."
   ]
  },
  {
   "cell_type": "code",
   "execution_count": 27,
   "id": "218ff86b",
   "metadata": {},
   "outputs": [
    {
     "name": "stdout",
     "output_type": "stream",
     "text": [
      "** pH **\n",
      "\n",
      "Crops which will grow in high pH soil (a pH greater or equal to 9):\n",
      "['mothbeans']\n",
      "\n",
      "\n",
      "Crops which will grow in moderate pH soil (a pH between 9 and 4):\n",
      "['rice' 'maize' 'chickpea' 'kidneybeans' 'pigeonpeas' 'mothbeans'\n",
      " 'mungbean' 'blackgram' 'lentil' 'pomegranate' 'banana' 'mango' 'grapes'\n",
      " 'watermelon' 'muskmelon' 'apple' 'orange' 'papaya' 'coconut' 'cotton'\n",
      " 'jute' 'coffee']\n",
      "\n",
      "\n",
      "Crops which will grow in low pH soil (a pH less or equal to 4):\n",
      "['mothbeans']\n"
     ]
    }
   ],
   "source": [
    "print(\"** pH **\\n\")\n",
    "print(\"Crops which will grow in high pH soil (a pH greater or equal to 9):\")\n",
    "print(f\"{data[data['ph'] >= 9]['label'].unique()}\")\n",
    "print(\"\\n\")\n",
    "print(\"Crops which will grow in moderate pH soil (a pH between 9 and 4):\")\n",
    "print(f\"{data[(data['ph'] > 4) & (data['ph'] < 9)]['label'].unique()}\")\n",
    "print(\"\\n\")\n",
    "print(\"Crops which will grow in low pH soil (a pH less or equal to 4):\")\n",
    "print(f\"{data[data['ph'] <= 4]['label'].unique()}\")"
   ]
  },
  {
   "cell_type": "markdown",
   "id": "ddcfbef6",
   "metadata": {},
   "source": [
    " "
   ]
  },
  {
   "cell_type": "markdown",
   "id": "a1c723e8",
   "metadata": {},
   "source": [
    "It appears from the brief analysis of the data that the need for high concentrations of potassium (K) and phosphorous (P) are the likely reason that cluster 1 (apples, grapes) is a significant outlier.  "
   ]
  },
  {
   "cell_type": "markdown",
   "id": "1703a235",
   "metadata": {},
   "source": [
    "## 6) Conclusion"
   ]
  },
  {
   "cell_type": "markdown",
   "id": "b069bd33",
   "metadata": {},
   "source": [
    "How would this analysis be useful?  Starting with crop selection, knowing what crops will grow best on a particular piece of agricultural land is quite important.  But much of this is information is already known in a sense, possibly even for centuries.  Humans have been growing specific crops in specific climates since ancient times.  \n",
    "\n",
    "Where this becomes extremely useful is in regards to environmental impact and cost reductions.  Specifically in regards to fertilizer.  Knowing which crops will work on land while minimizing fertilizer use can defitely improve profits.  Additionally, fertilizers can be quite harmful to the environment, especially is they leach into the ground water.  Minimizing the use will drastically improve the negative environmental impact.\n",
    "\n",
    "Using this data, we could build a much improved supervised learning model (ie using logistic regression for example).  This could be used to build a simple application for small farms to select the ideal crops.  \n",
    "\n",
    "However, although good to learn with, this dataset has its limitations.  As with any ecosystem, there are a great many more factors that will impact the environment, in this case soil fertility.  Fertilizer nutrients seemed to be an odd inclusion into this dataset.  This data could easily vary depending on the size of the farm and how quickly fertilizer can be changed.  Also, type of soil (sandy, silt, clay, loamy) is very important in agriculture.  There are likely many more factors that an expert with specialized knowledge would include in the dataset."
   ]
  },
  {
   "cell_type": "code",
   "execution_count": null,
   "id": "67f04675",
   "metadata": {},
   "outputs": [],
   "source": []
  }
 ],
 "metadata": {
  "kernelspec": {
   "display_name": "Python 3 (ipykernel)",
   "language": "python",
   "name": "python3"
  },
  "language_info": {
   "codemirror_mode": {
    "name": "ipython",
    "version": 3
   },
   "file_extension": ".py",
   "mimetype": "text/x-python",
   "name": "python",
   "nbconvert_exporter": "python",
   "pygments_lexer": "ipython3",
   "version": "3.9.12"
  }
 },
 "nbformat": 4,
 "nbformat_minor": 5
}
